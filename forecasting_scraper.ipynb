{
 "cells": [
  {
   "cell_type": "code",
   "execution_count": 1,
   "metadata": {},
   "outputs": [],
   "source": [
    "import scrapy"
   ]
  },
  {
   "cell_type": "code",
   "execution_count": 9,
   "metadata": {},
   "outputs": [],
   "source": [
    "class forecasterSpider(scrapy.Spider):\n",
    "    name = 'forecaster'\n",
    "    start_urls = ['https://otexts.org/fpp2/']\n",
    "    \n",
    "    \n",
    "    \n",
    "    def parse(self, response):\n",
    "#     def parse(self):\n",
    "        hxs = scrapy.Selector(response)\n",
    "        # extract all links from page\n",
    "        all_links = hxs.xpath('*//a/@href').extract()\n",
    "        # iterate over links\n",
    "        for link in all_links:\n",
    "            yield scrapy.http.Request(url=link, callback=print_this_link)\n",
    "            \n",
    "            \n",
    "    \n",
    "    \n",
    "#     # Entry point for the spider\n",
    "#     def parse(self, response):\n",
    "#         for href in response.css('.sp-cms_unit--ttl a::attr(href)'):\n",
    "#             url = href.extract()\n",
    "#             yield scrapy.Request(url, callback=self.parse_item)\n",
    "\n",
    "#     # Method for parsing a product page\n",
    "#     def parse_item(self, response):\n",
    "#         original_price = -1\n",
    "#         savings=0\n",
    "#         discounted = False\n",
    "#         seller_rating = response.css('.vip-product-info .stats .inline-block small::text'). extract()[0]\n",
    "#         seller_rating = int(filter(unicode.isdigit,seller_rating))\n",
    "\n",
    "#         # Not all deals are discounted\n",
    "#         if response.css('.vip-product-info .subhead::text').extract():\n",
    "#             original_price = response.css('.vip-product-info .subhead::text').extract()[0].replace(\"AED\", \"\")\n",
    "#             discounted = True\n",
    "#             savings = response.css('.vip-product-info .message .noWrap::text').extract()[0].replace(\"AED\", \"\")\n",
    "#         yield {\n",
    "#             'Title': response.css('.product-title h1::text').extract()[0],\n",
    "#             'Category': response.css('.product-title h1+ span a+ a::text').extract()[0],\n",
    "#             'OriginalPrice': original_price,\n",
    "#             'CurrentPrice': response.css('.vip-product-info .price::text').extract()[0].replace(u\"\\xa0\", \"\"),\n",
    "#             'Discounted': discounted,\n",
    "#             'Savings': savings,\n",
    "#             'SoldBy': response.css('.vip-product-info .stats a::text').extract()[0],\n",
    "#             'SellerRating': seller_rating,\n",
    "#             'Url': response.url\n",
    "#         }"
   ]
  },
  {
   "cell_type": "code",
   "execution_count": 6,
   "metadata": {},
   "outputs": [],
   "source": [
    "test = forecasterSpider()"
   ]
  },
  {
   "cell_type": "code",
   "execution_count": 8,
   "metadata": {},
   "outputs": [
    {
     "ename": "NameError",
     "evalue": "name 'hxs' is not defined",
     "output_type": "error",
     "traceback": [
      "\u001b[1;31m---------------------------------------------------------------------------\u001b[0m",
      "\u001b[1;31mNameError\u001b[0m                                 Traceback (most recent call last)",
      "\u001b[1;32m<ipython-input-8-51efa13eaa9a>\u001b[0m in \u001b[0;36m<module>\u001b[1;34m()\u001b[0m\n\u001b[1;32m----> 1\u001b[1;33m \u001b[0mlist\u001b[0m\u001b[1;33m(\u001b[0m\u001b[0mtest\u001b[0m\u001b[1;33m.\u001b[0m\u001b[0mparse\u001b[0m\u001b[1;33m(\u001b[0m\u001b[1;33m)\u001b[0m\u001b[1;33m)\u001b[0m\u001b[1;33m\u001b[0m\u001b[0m\n\u001b[0m",
      "\u001b[1;32m<ipython-input-5-1f3c8c4f025d>\u001b[0m in \u001b[0;36mparse\u001b[1;34m(self)\u001b[0m\n\u001b[0;32m      9\u001b[0m \u001b[1;31m#         hxs = scrapy.Selector(response)\u001b[0m\u001b[1;33m\u001b[0m\u001b[1;33m\u001b[0m\u001b[0m\n\u001b[0;32m     10\u001b[0m         \u001b[1;31m# extract all links from page\u001b[0m\u001b[1;33m\u001b[0m\u001b[1;33m\u001b[0m\u001b[0m\n\u001b[1;32m---> 11\u001b[1;33m         \u001b[0mall_links\u001b[0m \u001b[1;33m=\u001b[0m \u001b[0mhxs\u001b[0m\u001b[1;33m.\u001b[0m\u001b[0mxpath\u001b[0m\u001b[1;33m(\u001b[0m\u001b[1;34m'*//a/@href'\u001b[0m\u001b[1;33m)\u001b[0m\u001b[1;33m.\u001b[0m\u001b[0mextract\u001b[0m\u001b[1;33m(\u001b[0m\u001b[1;33m)\u001b[0m\u001b[1;33m\u001b[0m\u001b[0m\n\u001b[0m\u001b[0;32m     12\u001b[0m         \u001b[1;31m# iterate over links\u001b[0m\u001b[1;33m\u001b[0m\u001b[1;33m\u001b[0m\u001b[0m\n\u001b[0;32m     13\u001b[0m         \u001b[1;32mfor\u001b[0m \u001b[0mlink\u001b[0m \u001b[1;32min\u001b[0m \u001b[0mall_links\u001b[0m\u001b[1;33m:\u001b[0m\u001b[1;33m\u001b[0m\u001b[0m\n",
      "\u001b[1;31mNameError\u001b[0m: name 'hxs' is not defined"
     ]
    }
   ],
   "source": [
    "list(test.parse())"
   ]
  },
  {
   "cell_type": "code",
   "execution_count": null,
   "metadata": {},
   "outputs": [],
   "source": []
  }
 ],
 "metadata": {
  "kernelspec": {
   "display_name": "Python 3",
   "language": "python",
   "name": "python3"
  },
  "language_info": {
   "codemirror_mode": {
    "name": "ipython",
    "version": 3
   },
   "file_extension": ".py",
   "mimetype": "text/x-python",
   "name": "python",
   "nbconvert_exporter": "python",
   "pygments_lexer": "ipython3",
   "version": "3.7.0"
  }
 },
 "nbformat": 4,
 "nbformat_minor": 2
}
